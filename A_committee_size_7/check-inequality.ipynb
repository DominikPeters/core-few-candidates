{
 "cells": [
  {
   "cell_type": "markdown",
   "metadata": {},
   "source": [
    "# Proof that PAV satisfies the core for $k = 7$\n",
    "\n",
    "This notebook contains code for verifying the key inequality (3) appearing in the proof of Theorem 4.1. This inequality is stated for every possible deviation $T$ and ballot $A$:\n",
    "$$\n",
    "    \\delta_A > (\\tfrac{k}{|T|} - 1) \\cdot |T \\setminus W|.\n",
    "$$\n",
    "If this inequality is established for all $A$, then the proof implies that $T$ is not successful."
   ]
  },
  {
   "cell_type": "code",
   "execution_count": 1,
   "metadata": {},
   "outputs": [],
   "source": [
    "import itertools\n",
    "from fractions import Fraction\n",
    "from utility_functions import generate_wlog_partition, is_wlog"
   ]
  },
  {
   "cell_type": "markdown",
   "metadata": {},
   "source": [
    "In this notebook, we refer to the quantity $\\delta_A$ as the `LHS` (left-hand side). The following function computes it, in the simplified form given in the paper which depends on the following quantities:\n",
    "$$\n",
    "    a = (W \\setminus T) \\cap A, \\quad\n",
    "\tb = (W \\cap T) \\cap A, \\quad\n",
    "\tc = (T \\setminus W) \\cap A.\n",
    "$$\n",
    "as well as the cardinalities of $W \\setminus T$ and $T \\setminus W$."
   ]
  },
  {
   "cell_type": "code",
   "execution_count": 2,
   "metadata": {},
   "outputs": [],
   "source": [
    "def LHS(a, b, c, W_minus_T, T_minus_W):\n",
    "    # delta_A in the paper\n",
    "    if a + b:\n",
    "        return Fraction((W_minus_T - a) * c, a + b + 1) - Fraction(a * (T_minus_W - c), a + b)\n",
    "    else:\n",
    "        # a + b = 0, so a = 0, so second term is 0 / 0 = 0\n",
    "        return Fraction((W_minus_T - a) * c, a + b + 1)"
   ]
  },
  {
   "cell_type": "markdown",
   "metadata": {},
   "source": [
    "Finally, the function `check_inequality` verifies the inequality for all possible deviations $T$ and ballots $A$, for given committee size $k$. To speed up the computation, it only considers canonical deviations $T$."
   ]
  },
  {
   "cell_type": "code",
   "execution_count": 3,
   "metadata": {},
   "outputs": [],
   "source": [
    "def check_inequality(k):\n",
    "    violations = set()\n",
    "    W = range(k) # committee, without loss of generality\n",
    "    for T_size in range(1, k):\n",
    "        wlog_partition = generate_wlog_partition(range(k + T_size), [range(k)])\n",
    "        for T in itertools.combinations(range(k + T_size), T_size):\n",
    "            if not is_wlog(T, wlog_partition):\n",
    "                continue\n",
    "            W_minus_T = sum(1 for w in W if w not in T)\n",
    "            W_cap_T = sum(1 for w in W if w in T)\n",
    "            T_minus_W = sum(1 for t in T if t not in W)\n",
    "            if not T_minus_W:\n",
    "                continue # cannot be a deviation\n",
    "            for a, b, c in itertools.product(*[\n",
    "                                    range(W_minus_T + 1), \n",
    "                                    range(W_cap_T + 1), \n",
    "                                    range(T_minus_W + 1)]):\n",
    "                # a = number approved in W \\ T\n",
    "                # b = number approved in W cap T\n",
    "                # c = number approved in T \\ W\n",
    "                if b + c > a + b: # prefers T to W\n",
    "                    if LHS(a, b, c, W_minus_T, T_minus_W) <= (Fraction(k, len(T)) - 1) * T_minus_W:\n",
    "                        violations.add(T)\n",
    "    return violations"
   ]
  },
  {
   "cell_type": "markdown",
   "metadata": {},
   "source": [
    "We run this function for each $k = 1, \\dots, 7$, verifying that the inequality always holds. We also run it for $k = 8$, discovering that the inequality holds except for $T = \\{0,1,8,9\\}$, a fact that will be used in Lemma 4.4."
   ]
  },
  {
   "cell_type": "code",
   "execution_count": 4,
   "metadata": {},
   "outputs": [
    {
     "name": "stdout",
     "output_type": "stream",
     "text": [
      "No violations found for k = 1\n",
      "No violations found for k = 2\n",
      "No violations found for k = 3\n",
      "No violations found for k = 4\n",
      "No violations found for k = 5\n",
      "No violations found for k = 6\n",
      "No violations found for k = 7\n",
      "Found violations for k = 8: T ∈ {(0, 1, 8, 9)}\n"
     ]
    }
   ],
   "source": [
    "for k in range(1, 9):\n",
    "    violations = check_inequality(k)\n",
    "    if violations:\n",
    "        print(f\"Found violations for k = {k}: T ∈ {violations}\")\n",
    "    else:\n",
    "        print(f\"No violations found for k = {k}\")"
   ]
  }
 ],
 "metadata": {
  "kernelspec": {
   "display_name": "Python 3",
   "language": "python",
   "name": "python3"
  },
  "language_info": {
   "codemirror_mode": {
    "name": "ipython",
    "version": 3
   },
   "file_extension": ".py",
   "mimetype": "text/x-python",
   "name": "python",
   "nbconvert_exporter": "python",
   "pygments_lexer": "ipython3",
   "version": "3.11.10"
  }
 },
 "nbformat": 4,
 "nbformat_minor": 2
}
