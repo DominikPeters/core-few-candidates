{
 "cells": [
  {
   "cell_type": "markdown",
   "metadata": {},
   "source": [
    "# Structure of PAV core counterexamples for $k = 8$: Dual certificates\n",
    "\n",
    "This notebook contains code for verifying the claims in the proof of Lemma 4.4 (about committee size $k = 8$) regarding the optimum values of various linear programs. For this, it reads in pre-computed dual solutions and verifies their correctness, which involves simple exact (fractional) arithmetic."
   ]
  },
  {
   "cell_type": "code",
   "execution_count": 1,
   "metadata": {},
   "outputs": [],
   "source": [
    "import itertools\n",
    "from functools import cache\n",
    "import pickle\n",
    "from fractions import Fraction\n",
    "from utility_functions import powerset, show, utility, generate_wlog_partition, is_wlog"
   ]
  },
  {
   "cell_type": "code",
   "execution_count": 2,
   "metadata": {},
   "outputs": [],
   "source": [
    "@cache\n",
    "def harmonic_number(r):\n",
    "    return sum(Fraction(1,i) for i in range(1,r+1))\n",
    "\n",
    "@cache\n",
    "def swapped(committee, x, y):\n",
    "    return tuple(set(committee) - {x} | {y})"
   ]
  },
  {
   "cell_type": "markdown",
   "metadata": {},
   "source": [
    "As explained in the paper, we may label the PAV committee w.l.o.g. as $0, 1, \\ldots, k-1$. For $k = 8$, the only deviation that can occur is $T = (0, 1, 8, 9)$ (with appropriate labelling), and we may restrict the candidate set to $W \\cup T = \\{0, 1, \\ldots, 9\\}$."
   ]
  },
  {
   "cell_type": "code",
   "execution_count": 3,
   "metadata": {},
   "outputs": [],
   "source": [
    "num_alts = 10\n",
    "k = 8\n",
    "A = list(range(num_alts))\n",
    "ballots = sorted(powerset(A))\n",
    "committees = list(itertools.combinations(A, k))\n",
    "pav_committee = tuple(A[:k])\n",
    "swaps = [(x,y) for x in pav_committee for y in A if y not in pav_committee]\n",
    "T = (0, 1, 8, 9)"
   ]
  },
  {
   "cell_type": "markdown",
   "metadata": {},
   "source": [
    "To begin, we load the dual solutions from the file `dual_values_k8.pkl`. They were computed using the code in the notebook `primals-counterexample-k8-structure.ipynb`. After loading, `dual_solutions` is a dictionary whose keys are names of the different linear programs, and whose values are dictionaries that map names of dual variables to their values."
   ]
  },
  {
   "cell_type": "code",
   "execution_count": 4,
   "metadata": {},
   "outputs": [],
   "source": [
    "pkl_filename = \"dual_values_k8.pkl\"\n",
    "dual_solutions = pickle.load(open(pkl_filename, \"rb\"))"
   ]
  },
  {
   "cell_type": "markdown",
   "metadata": {},
   "source": [
    "## Structure of the linear programs\n",
    "\n",
    "Each primal linear program discussed in the proof of Lemma 4.4 has the following structure, for some choice of objective coefficients $(c_A)_{A \\in \\mathcal{A}}$:\n",
    "\n",
    "$$\n",
    "\\begin{aligned}\n",
    "\\max  \\quad & \\sum_{A \\in \\mathcal{A}} c_A p_A \\\\\n",
    "\\text{s.t.} \\quad & \\sum_{A\\in \\mathcal{A}} p_A && = 1,\\\\\n",
    "& \\sum_{A\\in \\mathcal{A}}p_A\\,\\Delta_{A,x,y} && \\le 0 \n",
    "   \\quad\\text{for each } x\\in W, y\\notin W,\\\\\n",
    "& \\sum_{A : u_A(T) > u_A(W)} p_A &&\\ge  \\frac{|T|}{k},\\\\\n",
    "& p_A && \\ge 0  \\quad\\text{for all }A.\n",
    "\\end{aligned}\n",
    "$$\n",
    "\n",
    "The dual linear program has the following structure:\n",
    "\n",
    "$$\n",
    "\\begin{aligned}\n",
    "\\min \\quad & \\alpha - \\frac{|T|}{k} \\gamma \\\\\n",
    "\\text{s.t.} \\quad & \n",
    "\\alpha  + \\sum_{x\\in W, y\\notin W} \\beta_{x,y} \\Delta_{A,x,y}\n",
    "    - \\gamma &&\\ge c_A \\quad\\text{for all $A \\in \\mathcal{A}$ with $u_A(T) > u_A(W)$},\\\\\n",
    "& \\alpha + \\sum_{x\\in W, y\\notin W} \\beta_{x,y} \\Delta_{A,x,y} &&\\ge c_A \\quad\\text{for all $A \\in \\mathcal{A}$ with $u_A(T) \\le u_A(W)$},\\\\\n",
    "& \\beta_{x,y} \\ge 0,\\quad\n",
    "  \\gamma \\ge 0,\\quad\n",
    "  \\alpha \\in \\mathbb{R}.\n",
    "\\end{aligned}\n",
    "$$"
   ]
  },
  {
   "cell_type": "markdown",
   "metadata": {},
   "source": [
    "The function `verify_dual` takes as input a dual solution (a dictionary mapping dual variable names to their values) and the objective coefficients $c_A$ for the primal linear program. It verifies that the dual solution is feasible and computes the corresponding dual objective value. If this equals the primal objective value claimed in the paper, this verifies the correctness of that claim."
   ]
  },
  {
   "cell_type": "code",
   "execution_count": 5,
   "metadata": {},
   "outputs": [],
   "source": [
    "def verify_dual_solution(dual_solution, objective):\n",
    "    alpha = dual_solution[\"alpha\"]\n",
    "    beta = {(x, y) : dual_solution[f\"beta_{x}_{y}\"] for x, y in swaps}\n",
    "    gamma = dual_solution[\"gamma\"]\n",
    "    assert all(beta[x, y] >= 0 for x in pav_committee for y in A if y not in pav_committee)\n",
    "    assert gamma >= 0\n",
    "    for ballot in ballots:\n",
    "        lhs = alpha\n",
    "        for x, y in swaps:\n",
    "            lhs += beta[x, y] * (harmonic_number(utility(ballot, swapped(pav_committee, x, y))) - harmonic_number(utility(ballot, pav_committee)))\n",
    "        if utility(ballot, T) > utility(ballot, pav_committee):\n",
    "            lhs -= gamma\n",
    "        if not lhs >= objective[ballot]:\n",
    "            print(f\"lhs = {lhs}, rhs = {objective[ballot]}\")\n",
    "        assert lhs >= objective[ballot]\n",
    "    return alpha - Fraction(len(T), k) * gamma"
   ]
  },
  {
   "cell_type": "markdown",
   "metadata": {},
   "source": [
    "## First program type: ballots in the blocking coalition\n",
    "\n",
    "The first batch of programs concerns the frequency with which ballots supporting $T$ appear in the profile, with both $\\{0, 1, 8\\}$ and $\\{0, 1, 9\\}$ appearing with frequency $1/4$ (after restricting the candidate set to $W \\cup T$).\n",
    "\n",
    "Note that the dual solution will be $1/4$ for maximization problems and $-1/4$ for minimization problems, due to the way we formulated the dual linear program."
   ]
  },
  {
   "cell_type": "code",
   "execution_count": 6,
   "metadata": {},
   "outputs": [
    {
     "data": {
      "text/plain": [
       "Fraction(1, 4)"
      ]
     },
     "execution_count": 6,
     "metadata": {},
     "output_type": "execute_result"
    }
   ],
   "source": [
    "special_ballot = (0, 1, 8)\n",
    "objective = {ballot: int(ballot == special_ballot) for ballot in ballots}\n",
    "verify_dual_solution(dual_solutions[\"max_freq_018\"], objective)"
   ]
  },
  {
   "cell_type": "code",
   "execution_count": 7,
   "metadata": {},
   "outputs": [
    {
     "data": {
      "text/plain": [
       "Fraction(-1, 4)"
      ]
     },
     "execution_count": 7,
     "metadata": {},
     "output_type": "execute_result"
    }
   ],
   "source": [
    "special_ballot = (0, 1, 8)\n",
    "objective = {ballot: -int(ballot == special_ballot) for ballot in ballots}\n",
    "verify_dual_solution(dual_solutions[\"min_freq_018\"], objective)"
   ]
  },
  {
   "cell_type": "code",
   "execution_count": 8,
   "metadata": {},
   "outputs": [
    {
     "data": {
      "text/plain": [
       "Fraction(1, 4)"
      ]
     },
     "execution_count": 8,
     "metadata": {},
     "output_type": "execute_result"
    }
   ],
   "source": [
    "special_ballot = (0, 1, 9)\n",
    "objective = {ballot: int(ballot == special_ballot) for ballot in ballots}\n",
    "verify_dual_solution(dual_solutions[\"max_freq_019\"], objective)"
   ]
  },
  {
   "cell_type": "code",
   "execution_count": 9,
   "metadata": {},
   "outputs": [
    {
     "data": {
      "text/plain": [
       "Fraction(-1, 4)"
      ]
     },
     "execution_count": 9,
     "metadata": {},
     "output_type": "execute_result"
    }
   ],
   "source": [
    "special_ballot = (0, 1, 9)\n",
    "objective = {ballot: -int(ballot == special_ballot) for ballot in ballots}\n",
    "verify_dual_solution(dual_solutions[\"min_freq_019\"], objective)"
   ]
  },
  {
   "cell_type": "markdown",
   "metadata": {},
   "source": [
    "## Second program type: ballots outside the blocking coalition\n",
    "\n",
    "The second batch of programs verifies that, besides $\\{0, 1, 8\\}$ and $\\{0, 1, 9\\}$, all other ballots are disjoint from $T$. We do this by considering each ballot that intersects $T$ and verifying that its maximum frequency in the profile is $0$.\n",
    "\n",
    "The code below verifies this only for the ballots that are \"canonical\" to speed up the computation."
   ]
  },
  {
   "cell_type": "code",
   "execution_count": 10,
   "metadata": {},
   "outputs": [
    {
     "name": "stdout",
     "output_type": "stream",
     "text": [
      "All tests passed, dual solutions have objective value 0 for all ballots intersecting T\n"
     ]
    }
   ],
   "source": [
    "ballots_intersecting_T = [ballot for ballot in ballots if any(x in T for x in ballot)]\n",
    "# restrict to canonical ballots\n",
    "partition = generate_wlog_partition(A, [T, pav_committee])\n",
    "ballots_intersecting_T = [ballot for ballot in ballots_intersecting_T if is_wlog(ballot, partition)]\n",
    "for special_ballot in ballots_intersecting_T:\n",
    "    if special_ballot == (0, 1, 8):\n",
    "        # this ballot is analyzed in the first program type\n",
    "        continue\n",
    "    objective = {ballot: int(ballot == special_ballot) for ballot in ballots}\n",
    "    assert verify_dual_solution(dual_solutions[f\"max_freq_{show(special_ballot)}\"], objective) == 0\n",
    "print(\"All tests passed, dual solutions have objective value 0 for all ballots intersecting T\")"
   ]
  },
  {
   "cell_type": "markdown",
   "metadata": {},
   "source": [
    "## Third program type: change of PAV score when removing a candidate\n",
    "\n",
    "The third program computes by how much the PAV score of the committee $W$ changes if any one member of $W \\setminus \\{0,1\\}$ is removed. Without loss of generality, we only need to consider removing $x = 2$. The answer is $-1/12$.\n",
    "\n",
    "As before, note that the dual solution will be $-1/12$ for the maximization problem and $1/12$ for the minimization problem, due to the way we formulated the dual linear program."
   ]
  },
  {
   "cell_type": "code",
   "execution_count": 11,
   "metadata": {},
   "outputs": [
    {
     "data": {
      "text/plain": [
       "Fraction(-1, 12)"
      ]
     },
     "execution_count": 11,
     "metadata": {},
     "output_type": "execute_result"
    }
   ],
   "source": [
    "x = 2 # candidate to delete\n",
    "pav_committee_without_x = tuple(a for a in pav_committee if a != x)\n",
    "objective = {ballot : harmonic_number(utility(ballot, pav_committee_without_x)) - harmonic_number(utility(ballot, pav_committee)) for ballot in ballots}\n",
    "verify_dual_solution(dual_solutions[f\"max_marginal_{x}\"], objective)"
   ]
  },
  {
   "cell_type": "code",
   "execution_count": 12,
   "metadata": {},
   "outputs": [
    {
     "data": {
      "text/plain": [
       "Fraction(1, 12)"
      ]
     },
     "execution_count": 12,
     "metadata": {},
     "output_type": "execute_result"
    }
   ],
   "source": [
    "x = 2 # candidate to delete\n",
    "pav_committee_without_x = tuple(a for a in pav_committee if a != x)\n",
    "objective = {ballot : -(harmonic_number(utility(ballot, pav_committee_without_x)) - harmonic_number(utility(ballot, pav_committee))) for ballot in ballots}\n",
    "verify_dual_solution(dual_solutions[f\"min_marginal_{x}\"], objective)"
   ]
  }
 ],
 "metadata": {
  "kernelspec": {
   "display_name": "Python 3",
   "language": "python",
   "name": "python3"
  },
  "language_info": {
   "codemirror_mode": {
    "name": "ipython",
    "version": 3
   },
   "file_extension": ".py",
   "mimetype": "text/x-python",
   "name": "python",
   "nbconvert_exporter": "python",
   "pygments_lexer": "ipython3",
   "version": "3.11.10"
  }
 },
 "nbformat": 4,
 "nbformat_minor": 2
}
