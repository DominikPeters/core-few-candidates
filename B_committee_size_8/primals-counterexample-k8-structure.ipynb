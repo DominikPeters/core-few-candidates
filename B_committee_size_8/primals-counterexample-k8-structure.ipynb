{
 "cells": [
  {
   "cell_type": "markdown",
   "metadata": {},
   "source": [
    "# Structure of PAV core counterexamples for $k = 8$\n",
    "\n",
    "This notebook contains code for solving the linear programs appearing in the proof of Lemma 4.4 (about committee size $k = 8$). The program also stores fractional dual solutions in a file. The correctness of these dual solutions can be verified using the code in the notebook `duals-counterexample-k8-structure.ipynb`."
   ]
  },
  {
   "cell_type": "code",
   "execution_count": 1,
   "metadata": {},
   "outputs": [],
   "source": [
    "from gurobipy import Env, Model, GRB, quicksum\n",
    "import itertools\n",
    "import os\n",
    "from functools import cache\n",
    "import json\n",
    "import pickle\n",
    "from tqdm import tqdm\n",
    "from fractions import Fraction\n",
    "from utility_functions import powerset, show, harmonic_number, utility, generate_wlog_partition, is_wlog"
   ]
  },
  {
   "cell_type": "markdown",
   "metadata": {},
   "source": [
    "The first step in the proof is to establish that the only possible deviation to a PAV committee for $k = 8$ is one with two committee members and two non-committee members. This can be established via the argument for Theorem 4.1 in the paper, together with the code in the notebook `check-inequality.ipynb` evaluated for $k = 8$.\n",
    "\n",
    "Next, the proof argues that we may restrict attention to the set of candidates $C = W \\cup T$, which is of size 10. We perform these initializations in the code below."
   ]
  },
  {
   "cell_type": "code",
   "execution_count": 2,
   "metadata": {},
   "outputs": [],
   "source": [
    "num_alts = 10\n",
    "k = 8\n",
    "A = list(range(num_alts))\n",
    "ballots = sorted(powerset(A))\n",
    "committees = list(itertools.combinations(A, k))\n",
    "pav_committee = tuple(A[:k])\n",
    "T = (0,1,8,9)"
   ]
  },
  {
   "cell_type": "markdown",
   "metadata": {},
   "source": [
    "The function `make_model` produces a gurobi `Model` that contains the constraints labeled (4) in the paper. In particular, the model has a variable `freq[ballot]` denoting the fraction of the profile made up by the ballot. It then has constraints saying that $W$ is a PAV committee (i.e., swap-stable), and that $T$ is a successful deviation."
   ]
  },
  {
   "cell_type": "code",
   "execution_count": 3,
   "metadata": {},
   "outputs": [],
   "source": [
    "def make_model(integral=False):\n",
    "    m = Model()\n",
    "    m.params.OutputFlag = 0\n",
    "    freq = {ballot: m.addVar() for ballot in ballots}\n",
    "    m.addConstr(quicksum(freq[ballot] for ballot in ballots) == 1, \"alpha\")\n",
    "    \n",
    "    score = {committee: quicksum(freq[ballot] * harmonic_number(utility(ballot, committee)) for ballot in ballots) for committee in committees}\n",
    "    opt_score = score[pav_committee]\n",
    "\n",
    "    swaps = [(x,y) for x in pav_committee for y in set(A) - set(pav_committee)]\n",
    "    W_xy = {(x,y) : tuple((set(pav_committee) - {x}) | {y}) for x,y in swaps}\n",
    "\n",
    "    for x, y in swaps:\n",
    "        m.addConstr(score[W_xy[(x,y)]] <= opt_score, f\"beta_{x}_{y}\")\n",
    "\n",
    "    ballots_preferring_T = set(ballot for ballot in ballots if utility(ballot, T) > utility(ballot, pav_committee))\n",
    "    # constraint negated to get the right sign of the dual variable\n",
    "    m.addConstr(-quicksum(freq[ballot] for ballot in ballots_preferring_T) <= -len(T) / k, \"gamma\")\n",
    "    return m, freq"
   ]
  },
  {
   "cell_type": "markdown",
   "metadata": {},
   "source": [
    "The following code block contains a function that extracts the dual solution computed by gurobi. It then converts them to exact rational numbers (by going through a \"library\" of rational numbers with small denominators and looking for one that is very close to the float from the gurobi solution). The dual solutions are then stored in a file."
   ]
  },
  {
   "cell_type": "code",
   "execution_count": 4,
   "metadata": {},
   "outputs": [],
   "source": [
    "class FractionEncoder(json.JSONEncoder):\n",
    "    def default(self, o):\n",
    "        if isinstance(o, Fraction):\n",
    "            # Serialize the fraction as a string representation \"numerator/denominator\"\n",
    "            return f\"{o.numerator}/{o.denominator}\"\n",
    "        return super(FractionEncoder, self).default(o)\n",
    "\n",
    "# fractions library\n",
    "fractions = [0]\n",
    "for denom in list(range(1, 12)) + [9]:\n",
    "    for num in range(1, max(4*denom, 10)):\n",
    "        fractions.append(Fraction(num, denom))\n",
    "fractions += [Fraction(15, 14), Fraction(56, 39), Fraction(112, 39), Fraction(1, 6), Fraction(11, 6), Fraction(30, 29), Fraction(60, 29), Fraction(3, 7), Fraction(4, 7), Fraction(5, 8), Fraction(5, 7), Fraction(6, 7), Fraction(20, 23), Fraction(7, 8), Fraction(8, 7), Fraction(10, 7), Fraction(20, 13), Fraction(12, 7), Fraction(40, 23), Fraction(30, 17), Fraction(40, 13), Fraction(60, 17), Fraction(10, 1), Fraction(12, 1), Fraction(14, 1), Fraction(11, 2)]\n",
    "fractions += [-frac for frac in fractions]\n",
    "\n",
    "pkl_filename = \"dual_values_k8.pkl\"\n",
    "json_filename = \"dual_values_k8.json\"\n",
    "if not os.path.exists(pkl_filename):\n",
    "    pickle.dump({}, open(pkl_filename, \"wb\"))\n",
    "not_found = set()\n",
    "def save_dual(m, name=None):\n",
    "    if m.ModelSense == 1: # maximization\n",
    "        m.setObjective(-m.getObjective(), GRB.MINIMIZE)\n",
    "        m.optimize()\n",
    "    dual_values = {}\n",
    "    for constr in m.getConstrs():\n",
    "        value = constr.Pi # dual value\n",
    "        if not any(abs(frac - value) < 1e-6 for frac in fractions):\n",
    "            print(f\"not found in fraction library: {value}\")\n",
    "            not_found.add(value)\n",
    "        frac = min(fractions, key=lambda x: abs(x - value))\n",
    "        dual_values[constr.ConstrName] = frac\n",
    "    if name:\n",
    "        saved_values = pickle.load(open(pkl_filename, \"rb\"))\n",
    "        saved_values[name] = dual_values\n",
    "        pickle.dump(saved_values, open(pkl_filename, \"wb\"))\n",
    "        json.dump(saved_values, open(json_filename, \"w\"), indent=2, cls=FractionEncoder)"
   ]
  },
  {
   "cell_type": "markdown",
   "metadata": {},
   "source": [
    "## First program type: ballots in the blocking coalition\n",
    "\n",
    "The first batch of programs concerns the frequency with which ballots supporting $T$ appear in the profile, with both $\\{0, 1, 8\\}$ and $\\{0, 1, 9\\}$ appearing with frequency $1/4$ (after restricting the candidate set to $W \\cup T$).\n",
    "\n",
    "The code more generally looks through all possible ballots that prefer $T$ over $W$, and finds that no other such ballots can appear in the profile."
   ]
  },
  {
   "cell_type": "code",
   "execution_count": 5,
   "metadata": {},
   "outputs": [
    {
     "name": "stdout",
     "output_type": "stream",
     "text": [
      "Set parameter Username\n",
      "Set parameter LicenseID to value 2591460\n",
      "Academic license - for non-commercial use only - expires 2025-11-26\n",
      "Blocking coalition can include (0, 1, 9) with weight between -0.25000000000000006 and 0.25000000000000006\n",
      "Blocking coalition can include (0, 1, 8) with weight between -0.25000000000000006 and 0.25000000000000006\n"
     ]
    }
   ],
   "source": [
    "T = (0,1,8,9)\n",
    "ballots_preferring_T = set(ballot for ballot in ballots if utility(ballot, T) > utility(ballot, pav_committee))\n",
    "for ballot in ballots_preferring_T:\n",
    "    m, freq = make_model(integral=False)\n",
    "    m.setObjective(freq[ballot], GRB.MAXIMIZE)\n",
    "    m.optimize()\n",
    "    if m.status == GRB.OPTIMAL and m.objVal > 0.00001:\n",
    "        save_dual(m, name=f\"max_freq_{show(ballot)}\")\n",
    "        max_weight = m.objVal\n",
    "        m.setObjective(-freq[ballot], GRB.MAXIMIZE)\n",
    "        m.optimize()\n",
    "        min_weight = m.objVal\n",
    "        print(f\"Blocking coalition can include {ballot} with weight between {min_weight} and {max_weight}\")\n",
    "        save_dual(m, name=f\"min_freq_{show(ballot)}\")\n"
   ]
  },
  {
   "cell_type": "markdown",
   "metadata": {},
   "source": [
    "## Second program type: ballots outside the blocking coalition\n",
    "\n",
    "The second batch of programs verifies that, besides $\\{0, 1, 8\\}$ and $\\{0, 1, 9\\}$, all other ballots are disjoint from $T$. We do this by considering each ballot that intersects $T$ and verifying that its maximum frequency in the profile is $0$.\n",
    "\n",
    "The code below verifies this only for the ballots that are \"canonical\" to speed up the computation."
   ]
  },
  {
   "cell_type": "code",
   "execution_count": 6,
   "metadata": {},
   "outputs": [
    {
     "name": "stderr",
     "output_type": "stream",
     "text": [
      "100%|██████████| 55/55 [00:03<00:00, 17.04it/s]\n"
     ]
    }
   ],
   "source": [
    "ballots_intersecting_T = [ballot for ballot in ballots if any(x in T for x in ballot)]\n",
    "partition = generate_wlog_partition(A, [T, pav_committee])\n",
    "ballots_intersecting_T = [ballot for ballot in ballots_intersecting_T if is_wlog(ballot, partition)]\n",
    "for ballot in tqdm(ballots_intersecting_T):\n",
    "    if ballot == (0, 1, 8):\n",
    "        continue # handled above\n",
    "    m, freq = make_model(integral=False)\n",
    "    m.setObjective(freq[ballot], GRB.MAXIMIZE)\n",
    "    m.optimize()\n",
    "    assert m.objVal < 0.00001\n",
    "    if m.status == GRB.OPTIMAL:\n",
    "        save_dual(m, name=f\"max_freq_{show(ballot)}\")"
   ]
  },
  {
   "cell_type": "markdown",
   "metadata": {},
   "source": [
    "## Third program type: change of PAV score when removing a candidate\n",
    "\n",
    "The third program computes by how much the PAV score of the committee $W$ changes if any one member of $W \\setminus \\{0,1\\}$ is removed. Without loss of generality, we only need to consider removing $x = 2$. The answer is $-1/12$."
   ]
  },
  {
   "cell_type": "code",
   "execution_count": 7,
   "metadata": {},
   "outputs": [
    {
     "name": "stdout",
     "output_type": "stream",
     "text": [
      "Removing 2 from the PAV committee can decrease the score by between 0.08333333333333343 and 0.08333333333333331\n"
     ]
    }
   ],
   "source": [
    "def pav_score(freq, committee):\n",
    "    return quicksum(freq[ballot] * harmonic_number(utility(ballot, committee)) for ballot in ballots)\n",
    "\n",
    "x = 2 # without loss of generality\n",
    "m, freq = make_model()\n",
    "pav_committee_without_x = tuple(a for a in pav_committee if a != x)\n",
    "marginal = pav_score(freq, pav_committee_without_x) - pav_score(freq, pav_committee)\n",
    "m.setObjective(marginal, GRB.MAXIMIZE)\n",
    "m.optimize()\n",
    "save_dual(m, name=f\"max_marginal_{x}\")\n",
    "max_marginal = m.objVal\n",
    "m.setObjective(-marginal, GRB.MAXIMIZE)\n",
    "m.optimize()\n",
    "save_dual(m, name=f\"min_marginal_{x}\")\n",
    "min_marginal = m.objVal\n",
    "print(f\"Removing {x} from the PAV committee can decrease the score by between {min_marginal} and {-max_marginal}\")"
   ]
  }
 ],
 "metadata": {
  "kernelspec": {
   "display_name": "Python 3",
   "language": "python",
   "name": "python3"
  },
  "language_info": {
   "codemirror_mode": {
    "name": "ipython",
    "version": 3
   },
   "file_extension": ".py",
   "mimetype": "text/x-python",
   "name": "python",
   "nbconvert_exporter": "python",
   "pygments_lexer": "ipython3",
   "version": "3.11.10"
  }
 },
 "nbformat": 4,
 "nbformat_minor": 2
}
